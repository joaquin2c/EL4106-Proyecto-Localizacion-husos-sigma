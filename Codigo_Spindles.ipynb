{
 "cells": [
  {
   "cell_type": "code",
   "execution_count": 2,
   "metadata": {},
   "outputs": [],
   "source": [
    "import numpy as np\n",
    "import matplotlib.pyplot as plt\n",
    "import tensorflow as tf\n",
    "\n",
    "#Cargamos los datos a trabajar\n",
    "\n",
    "x_train_pre=np.load(\"./data/train_signals.npy\")\n",
    "y_train_pre=np.load(\"./data/train_marks.npy\")\n",
    "trainLen=len(x_train_pre)\n",
    "\n",
    "x_val_pre=np.load(\"./data/val_signals.npy\")\n",
    "y_val_pre=np.load(\"./data/val_marks.npy\")\n",
    "valLen=len(x_val_pre)\n",
    "\n",
    "x_test_pre=np.load(\"./data/test_signals.npy\")\n",
    "y_test_pre=np.load(\"./data/test_marks.npy\")\n",
    "testLen=len(x_test_pre)\n",
    "\n",
    "#Creamos una funcion que muestree a un ratio deseado\n",
    "\n",
    "def sampling(signals,samples,lenght,rate):\n",
    "    x_new=[]\n",
    "    for i in signals:\n",
    "        x=[]\n",
    "        for j in range(0,lenght,rate):\n",
    "            x.append(i[j])\n",
    "        x_new.append(x)\n",
    "    return np.array(x_new)\n",
    "\n",
    "#Obtenemos los nuevos resultados de nuestras señales a trabajar\n",
    "\n",
    "x_train=sampling(x_train_pre,trainLen,800,4)\n",
    "x_val=sampling(x_val_pre,valLen,800,4)\n",
    "x_test=sampling(x_test_pre,testLen,800,4)\n",
    "\n",
    "#Creamos una funcion que clasifique con 1 o 0 los valores de la señal a trabajar\n",
    "\n",
    "def oneHot(marks,lenght,rate):\n",
    "    y_new=[]\n",
    "    for i in marks:\n",
    "        y=[]\n",
    "        for j in range(0,lenght,rate):\n",
    "            if(i[0]<=j & j<=i[1]):\n",
    "                y.append(1)\n",
    "            else:\n",
    "                y.append(0)\n",
    "        y_new.append(y)\n",
    "    return np.array(y_new)\n",
    "\n",
    "#Obtenemos los nuevos resultados de nuestras marcas a trabajar\n",
    "\n",
    "y_train=oneHot(y_train_pre,800,4)\n",
    "y_val=oneHot(y_val_pre,800,4)\n",
    "y_test=oneHot(y_test_pre,800,4)\n",
    "\n",
    "x_train2=np.expand_dims(x_train,2)\n",
    "y_train2=np.expand_dims(y_train,2)\n",
    "\n",
    "x_val2=np.expand_dims(x_val,2)\n",
    "y_val2=np.expand_dims(y_val,2)\n",
    "\n",
    "x_test2=np.expand_dims(x_test,2)\n",
    "y_test2=np.expand_dims(y_test,2)\n",
    "\n",
    "BATCH_SIZE=1\n",
    "\n",
    "training_dataset = tf.data.Dataset.from_tensor_slices(\n",
    "    (x_train2, y_train)).shuffle(buffer_size=1024).batch(BATCH_SIZE)\n",
    "\n",
    "test_dataset = tf.data.Dataset.from_tensor_slices(\n",
    "    (x_test2, y_test)).shuffle(buffer_size=1024).batch(BATCH_SIZE)\n",
    "\n",
    "val_dataset = tf.data.Dataset.from_tensor_slices(\n",
    "    (x_val2, y_val)).shuffle(buffer_size=1024).batch(BATCH_SIZE)\n",
    "\n",
    "time=np.arange(0,800,4)"
   ]
  },
  {
   "cell_type": "code",
   "execution_count": 3,
   "metadata": {},
   "outputs": [
    {
     "data": {
      "text/plain": [
       "(4463, 200)"
      ]
     },
     "execution_count": 3,
     "metadata": {},
     "output_type": "execute_result"
    }
   ],
   "source": [
    "x_train.shape"
   ]
  },
  {
   "cell_type": "code",
   "execution_count": 12,
   "metadata": {},
   "outputs": [
    {
     "name": "stdout",
     "output_type": "stream",
     "text": [
      "Model: \"sequential_5\"\n",
      "_________________________________________________________________\n",
      "Layer (type)                 Output Shape              Param #   \n",
      "=================================================================\n",
      "conv1d_30 (Conv1D)           (None, 200, 40)           320       \n",
      "_________________________________________________________________\n",
      "max_pooling1d_25 (MaxPooling (None, 200, 40)           0         \n",
      "_________________________________________________________________\n",
      "conv1d_31 (Conv1D)           (None, 200, 40)           11240     \n",
      "_________________________________________________________________\n",
      "max_pooling1d_26 (MaxPooling (None, 200, 40)           0         \n",
      "_________________________________________________________________\n",
      "conv1d_32 (Conv1D)           (None, 200, 40)           11240     \n",
      "_________________________________________________________________\n",
      "max_pooling1d_27 (MaxPooling (None, 200, 40)           0         \n",
      "_________________________________________________________________\n",
      "conv1d_33 (Conv1D)           (None, 200, 40)           11240     \n",
      "_________________________________________________________________\n",
      "max_pooling1d_28 (MaxPooling (None, 200, 40)           0         \n",
      "_________________________________________________________________\n",
      "conv1d_34 (Conv1D)           (None, 200, 40)           11240     \n",
      "_________________________________________________________________\n",
      "max_pooling1d_29 (MaxPooling (None, 200, 40)           0         \n",
      "_________________________________________________________________\n",
      "conv1d_35 (Conv1D)           (None, 200, 1)            41        \n",
      "=================================================================\n",
      "Total params: 45,321\n",
      "Trainable params: 45,321\n",
      "Non-trainable params: 0\n",
      "_________________________________________________________________\n"
     ]
    }
   ],
   "source": [
    "#Modelo Paper\n",
    "prob=0.5\n",
    "model = tf.keras.Sequential()\n",
    "\n",
    "model.add(tf.keras.layers.Conv1D(40, 7, activation='elu',padding=\"same\"))\n",
    "model.add(tf.keras.layers.MaxPool1D(pool_size=5,strides=1,padding=\"same\"))\n",
    "\n",
    "model.add(tf.keras.layers.Conv1D(40, 7, activation='elu',padding=\"same\"))\n",
    "model.add(tf.keras.layers.MaxPool1D(pool_size=5,strides=1,padding=\"same\"))\n",
    "\n",
    "model.add(tf.keras.layers.Conv1D(40, 7, activation='elu',padding=\"same\"))\n",
    "model.add(tf.keras.layers.MaxPool1D(pool_size=5,strides=1,padding=\"same\"))\n",
    "\n",
    "model.add(tf.keras.layers.Conv1D(40, 7, activation='elu',padding=\"same\"))\n",
    "model.add(tf.keras.layers.MaxPool1D(pool_size=5,strides=1,padding=\"same\"))\n",
    "\n",
    "model.add(tf.keras.layers.Conv1D(40, 7, activation='elu',padding=\"same\"))\n",
    "model.add(tf.keras.layers.MaxPool1D(pool_size=5,strides=1,padding=\"same\"))\n",
    "\n",
    "model.add(tf.keras.layers.Conv1D(1, 1, activation='elu',padding=\"same\"))\n",
    "\n",
    "model.build(input_shape=(None,200,1))\n",
    "\n",
    "model.compile(loss='categorical_crossentropy',optimizer=\"adam\",  metrics=['accuracy'])\n",
    "\n",
    "model.summary()"
   ]
  },
  {
   "cell_type": "code",
   "execution_count": 34,
   "metadata": {},
   "outputs": [
    {
     "name": "stdout",
     "output_type": "stream",
     "text": [
      "Model: \"sequential_15\"\n",
      "_________________________________________________________________\n",
      "Layer (type)                 Output Shape              Param #   \n",
      "=================================================================\n",
      "conv1d_73 (Conv1D)           (None, 194, 16)           128       \n",
      "_________________________________________________________________\n",
      "max_pooling1d_69 (MaxPooling (None, 95, 16)            0         \n",
      "_________________________________________________________________\n",
      "conv1d_74 (Conv1D)           (None, 89, 32)            3616      \n",
      "_________________________________________________________________\n",
      "max_pooling1d_70 (MaxPooling (None, 43, 32)            0         \n",
      "_________________________________________________________________\n",
      "conv1d_75 (Conv1D)           (None, 37, 48)            10800     \n",
      "_________________________________________________________________\n",
      "max_pooling1d_71 (MaxPooling (None, 17, 48)            0         \n",
      "_________________________________________________________________\n",
      "conv1d_76 (Conv1D)           (None, 11, 64)            21568     \n",
      "_________________________________________________________________\n",
      "max_pooling1d_72 (MaxPooling (None, 4, 64)             0         \n",
      "_________________________________________________________________\n",
      "flatten_8 (Flatten)          (None, 256)               0         \n",
      "_________________________________________________________________\n",
      "fc3 (Dense)                  (None, 50)                12850     \n",
      "_________________________________________________________________\n",
      "dropout_3 (Dropout)          (None, 50)                0         \n",
      "_________________________________________________________________\n",
      "fc4 (Dense)                  (None, 200)               10200     \n",
      "=================================================================\n",
      "Total params: 59,162\n",
      "Trainable params: 59,162\n",
      "Non-trainable params: 0\n",
      "_________________________________________________________________\n"
     ]
    }
   ],
   "source": [
    "#Modelo Propuesto\n",
    "\n",
    "model2 = tf.keras.Sequential()\n",
    "\n",
    "model2.add(tf.keras.layers.Conv1D(16, 7, activation='elu'))\n",
    "model2.add(tf.keras.layers.MaxPool1D(pool_size=5,strides=2))\n",
    "\n",
    "model2.add(tf.keras.layers.Conv1D(32, 7, activation='elu'))\n",
    "model2.add(tf.keras.layers.Dropout(prob))\n",
    "model2.add(tf.keras.layers.MaxPool1D(pool_size=5,strides=2))\n",
    "\n",
    "model2.add(tf.keras.layers.Conv1D(48, 7, activation='elu'))\n",
    "model2.add(tf.keras.layers.Dropout(prob))\n",
    "model2.add(tf.keras.layers.MaxPool1D(pool_size=5,strides=2))\n",
    "\n",
    "model2.add(tf.keras.layers.Conv1D(64, 7, activation='elu'))\n",
    "model2.add(tf.keras.layers.Dropout(prob))\n",
    "model2.add(tf.keras.layers.MaxPool1D(pool_size=5,strides=2))\n",
    "\n",
    "model2.add(tf.keras.layers.Flatten())\n",
    "\n",
    "model2.add(tf.keras.layers.Dense(50, activation=tf.nn.relu, name='fc3'))\n",
    "model2.add(tf.keras.layers.Dropout(0.5))\n",
    "\n",
    "model2.add(tf.keras.layers.Dense(200, activation=tf.nn.relu, name='fc4'))\n",
    "\n",
    "\n",
    "model2.build(input_shape=(None,200,1))\n",
    "\n",
    "model2.compile(loss='categorical_crossentropy',optimizer=\"adam\",  metrics=['accuracy'])\n",
    "\n",
    "model2.summary()"
   ]
  },
  {
   "cell_type": "code",
   "execution_count": 13,
   "metadata": {
    "scrolled": true
   },
   "outputs": [
    {
     "name": "stdout",
     "output_type": "stream",
     "text": [
      "Epoch 1/100\n",
      "  2/100 [..............................] - ETA: 1:11 - loss: 202.7461 - accuracy: 0.6950WARNING:tensorflow:Callbacks method `on_train_batch_end` is slow compared to the batch time (batch time: 0.0080s vs `on_train_batch_end` time: 1.4502s). Check your callbacks.\n",
      "100/100 [==============================] - 5s 46ms/step - loss: 202.2101 - accuracy: 0.5641 - val_loss: 233.4452 - val_accuracy: 0.7797\n",
      "Epoch 2/100\n",
      "100/100 [==============================] - 3s 26ms/step - loss: 209.6015 - accuracy: 0.8022 - val_loss: 233.4452 - val_accuracy: 0.7797\n",
      "Epoch 3/100\n",
      "100/100 [==============================] - 3s 26ms/step - loss: 236.3579 - accuracy: 0.7770 - val_loss: 233.4452 - val_accuracy: 0.7797\n",
      "Epoch 4/100\n",
      "100/100 [==============================] - 3s 26ms/step - loss: 227.9866 - accuracy: 0.7849 - val_loss: 233.4452 - val_accuracy: 0.7797\n",
      "Epoch 5/100\n",
      "100/100 [==============================] - 3s 26ms/step - loss: 224.8605 - accuracy: 0.7878 - val_loss: 233.4454 - val_accuracy: 0.7797\n",
      "Epoch 6/100\n",
      "100/100 [==============================] - 3s 28ms/step - loss: 234.1857 - accuracy: 0.7790 - val_loss: 233.4451 - val_accuracy: 0.7797\n",
      "Epoch 7/100\n",
      "100/100 [==============================] - 3s 27ms/step - loss: 231.8013 - accuracy: 0.7812 - val_loss: 233.4451 - val_accuracy: 0.7797\n",
      "Epoch 8/100\n",
      "100/100 [==============================] - 3s 26ms/step - loss: 231.2186 - accuracy: 0.7818 - val_loss: 233.4453 - val_accuracy: 0.7797\n",
      "Epoch 9/100\n",
      "100/100 [==============================] - 3s 27ms/step - loss: 221.8405 - accuracy: 0.7906 - val_loss: 233.4453 - val_accuracy: 0.7797\n",
      "Epoch 10/100\n",
      "100/100 [==============================] - 3s 26ms/step - loss: 234.3976 - accuracy: 0.7788 - val_loss: 233.4453 - val_accuracy: 0.7797\n",
      "Epoch 11/100\n",
      "100/100 [==============================] - 3s 26ms/step - loss: 228.3045 - accuracy: 0.7846 - val_loss: 233.4454 - val_accuracy: 0.7797\n",
      "Epoch 12/100\n",
      "100/100 [==============================] - 3s 26ms/step - loss: 227.2978 - accuracy: 0.7855 - val_loss: 233.4453 - val_accuracy: 0.7797\n",
      "Epoch 13/100\n",
      "100/100 [==============================] - 3s 26ms/step - loss: 225.6023 - accuracy: 0.7871 - val_loss: 233.4452 - val_accuracy: 0.7797\n",
      "Epoch 14/100\n",
      "100/100 [==============================] - 3s 26ms/step - loss: 226.0792 - accuracy: 0.7867 - val_loss: 233.4450 - val_accuracy: 0.7797\n",
      "Epoch 15/100\n",
      "100/100 [==============================] - 3s 26ms/step - loss: 228.9933 - accuracy: 0.7839 - val_loss: 233.4453 - val_accuracy: 0.7797\n",
      "Epoch 16/100\n",
      "100/100 [==============================] - 3s 26ms/step - loss: 223.8539 - accuracy: 0.7888 - val_loss: 233.4453 - val_accuracy: 0.7797\n",
      "Epoch 17/100\n",
      "100/100 [==============================] - 3s 27ms/step - loss: 221.0458 - accuracy: 0.7914 - val_loss: 233.4453 - val_accuracy: 0.7797\n",
      "Epoch 18/100\n",
      "100/100 [==============================] - 3s 26ms/step - loss: 225.0196 - accuracy: 0.7877 - val_loss: 233.4452 - val_accuracy: 0.7797\n",
      "Epoch 19/100\n",
      "100/100 [==============================] - 3s 27ms/step - loss: 232.9141 - accuracy: 0.7802 - val_loss: 233.4455 - val_accuracy: 0.7797\n",
      "Epoch 20/100\n",
      "100/100 [==============================] - 3s 29ms/step - loss: 241.9211 - accuracy: 0.7717 - val_loss: 233.4452 - val_accuracy: 0.7797\n",
      "Epoch 21/100\n",
      "100/100 [==============================] - 3s 27ms/step - loss: 236.1461 - accuracy: 0.7772 - val_loss: 233.4454 - val_accuracy: 0.7797\n",
      "Epoch 22/100\n",
      "100/100 [==============================] - 3s 30ms/step - loss: 237.2586 - accuracy: 0.7761 - val_loss: 233.4452 - val_accuracy: 0.7797\n",
      "Epoch 23/100\n",
      "100/100 [==============================] - 3s 28ms/step - loss: 232.5432 - accuracy: 0.7805 - val_loss: 233.4451 - val_accuracy: 0.7797\n",
      "Epoch 24/100\n",
      "100/100 [==============================] - 3s 27ms/step - loss: 228.5694 - accuracy: 0.7843 - val_loss: 233.4452 - val_accuracy: 0.7797\n",
      "Epoch 25/100\n",
      "100/100 [==============================] - 3s 27ms/step - loss: 229.7351 - accuracy: 0.7832 - val_loss: 233.4451 - val_accuracy: 0.7797\n",
      "Epoch 26/100\n",
      "100/100 [==============================] - 3s 26ms/step - loss: 216.9661 - accuracy: 0.7952 - val_loss: 233.4454 - val_accuracy: 0.7797\n",
      "Epoch 27/100\n",
      "100/100 [==============================] - 3s 28ms/step - loss: 226.0262 - accuracy: 0.7867 - val_loss: 233.4452 - val_accuracy: 0.7797\n",
      "Epoch 28/100\n",
      "100/100 [==============================] - 3s 28ms/step - loss: 229.4701 - accuracy: 0.7835 - val_loss: 233.4454 - val_accuracy: 0.7797\n",
      "Epoch 29/100\n",
      "100/100 [==============================] - 3s 32ms/step - loss: 226.3970 - accuracy: 0.7863 - val_loss: 233.4452 - val_accuracy: 0.7797\n",
      "Epoch 30/100\n",
      "100/100 [==============================] - 4s 36ms/step - loss: 224.2778 - accuracy: 0.7883 - val_loss: 233.4452 - val_accuracy: 0.7797\n",
      "Epoch 31/100\n",
      "100/100 [==============================] - 4s 36ms/step - loss: 230.7947 - accuracy: 0.7822 - val_loss: 233.4453 - val_accuracy: 0.7797\n",
      "Epoch 32/100\n",
      "100/100 [==============================] - 4s 37ms/step - loss: 226.9799 - accuracy: 0.7858 - val_loss: 233.4453 - val_accuracy: 0.7797\n",
      "Epoch 33/100\n",
      "100/100 [==============================] - 4s 38ms/step - loss: 213.4692 - accuracy: 0.7986 - val_loss: 233.4453 - val_accuracy: 0.7797\n",
      "Epoch 34/100\n",
      "100/100 [==============================] - 4s 35ms/step - loss: 226.0262 - accuracy: 0.7867 - val_loss: 233.4453 - val_accuracy: 0.7797\n",
      "Epoch 35/100\n",
      "100/100 [==============================] - 3s 30ms/step - loss: 227.8281 - accuracy: 0.7850 - val_loss: 233.4451 - val_accuracy: 0.7797\n",
      "Epoch 36/100\n",
      "100/100 [==============================] - 3s 29ms/step - loss: 220.7809 - accuracy: 0.7917 - val_loss: 233.4452 - val_accuracy: 0.7797\n",
      "Epoch 37/100\n",
      "100/100 [==============================] - 3s 34ms/step - loss: 214.5289 - accuracy: 0.7976 - val_loss: 233.4452 - val_accuracy: 0.7797\n",
      "Epoch 38/100\n",
      "100/100 [==============================] - 3s 27ms/step - loss: 222.2644 - accuracy: 0.7903 - val_loss: 233.4451 - val_accuracy: 0.7797\n",
      "Epoch 39/100\n",
      "100/100 [==============================] - 3s 29ms/step - loss: 216.7542 - accuracy: 0.7955 - val_loss: 233.4453 - val_accuracy: 0.7797\n",
      "Epoch 40/100\n",
      "100/100 [==============================] - 3s 28ms/step - loss: 214.7409 - accuracy: 0.7973 - val_loss: 233.4454 - val_accuracy: 0.7797\n",
      "Epoch 41/100\n",
      "100/100 [==============================] - 3s 28ms/step - loss: 221.4167 - accuracy: 0.7911 - val_loss: 233.4455 - val_accuracy: 0.7797\n",
      "Epoch 42/100\n",
      "100/100 [==============================] - 3s 30ms/step - loss: 215.6415 - accuracy: 0.7965 - val_loss: 233.4454 - val_accuracy: 0.7797\n",
      "Epoch 43/100\n",
      "100/100 [==============================] - 3s 28ms/step - loss: 219.9331 - accuracy: 0.7925 - val_loss: 233.4453 - val_accuracy: 0.7797\n",
      "Epoch 44/100\n",
      "100/100 [==============================] - 3s 28ms/step - loss: 219.7742 - accuracy: 0.7926 - val_loss: 233.4453 - val_accuracy: 0.7797\n",
      "Epoch 45/100\n",
      " 54/100 [===============>..............] - ETA: 0s - loss: 222.3332 - accuracy: 0.7902WARNING:tensorflow:Your input ran out of data; interrupting training. Make sure that your dataset or generator can generate at least `steps_per_epoch * epochs` batches (in this case, 10000 batches). You may need to use the repeat() function when building your dataset.\n",
      " 63/100 [=================>............] - 3s 41ms/step - loss: 222.2771 - accuracy: 0.7902 - val_loss: 233.4453 - val_accuracy: 0.7797\n"
     ]
    },
    {
     "data": {
      "text/plain": [
       "<tensorflow.python.keras.callbacks.History at 0x229dc5c0088>"
      ]
     },
     "execution_count": 13,
     "metadata": {},
     "output_type": "execute_result"
    }
   ],
   "source": [
    "# Falla :c\n",
    "\n",
    "model.fit(\n",
    "    training_dataset, \n",
    "    epochs=100,\n",
    "    steps_per_epoch=100,\n",
    "    validation_data=val_dataset,\n",
    "    validation_freq=1,\n",
    "    callbacks=[tf.keras.callbacks.TensorBoard('./logs/esquere', update_freq=100)]\n",
    ")\n",
    "\n"
   ]
  },
  {
   "cell_type": "code",
   "execution_count": null,
   "metadata": {},
   "outputs": [],
   "source": [
    "training_dataset"
   ]
  },
  {
   "cell_type": "code",
   "execution_count": null,
   "metadata": {},
   "outputs": [],
   "source": [
    "x_train2.shape"
   ]
  },
  {
   "cell_type": "code",
   "execution_count": 14,
   "metadata": {},
   "outputs": [
    {
     "data": {
      "text/plain": [
       "[<matplotlib.lines.Line2D at 0x229d7eecd88>]"
      ]
     },
     "execution_count": 14,
     "metadata": {},
     "output_type": "execute_result"
    },
    {
     "data": {
      "image/png": "[encoded data removed]",
      "text/plain": [
       "<Figure size 432x288 with 1 Axes>"
      ]
     },
     "metadata": {
      "needs_background": "light"
     },
     "output_type": "display_data"
    }
   ],
   "source": [
    "plt.plot(x_train[0])"
   ]
  },
  {
   "cell_type": "code",
   "execution_count": 38,
   "metadata": {},
   "outputs": [
    {
     "data": {
      "text/plain": [
       "[<matplotlib.lines.Line2D at 0x229dd344048>]"
      ]
     },
     "execution_count": 38,
     "metadata": {},
     "output_type": "execute_result"
    },
    {
     "data": {
      "image/png": "[encoded data removed]",
      "text/plain": [
       "<Figure size 432x288 with 1 Axes>"
      ]
     },
     "metadata": {
      "needs_background": "light"
     },
     "output_type": "display_data"
    }
   ],
   "source": [
    "plt.plot(x_test_pre[1])\n",
    "plt.plot(jaja,lala*40)\n",
    "plt.plot(jaja,lala*-40)"
   ]
  },
  {
   "cell_type": "code",
   "execution_count": 20,
   "metadata": {},
   "outputs": [],
   "source": [
    "large=len(y_test[1])\n",
    "a=[]\n",
    "for i in range(large):\n",
    "    if(y_test[1][i]==1):\n",
    "        a.append(time[i])\n",
    "        "
   ]
  },
  {
   "cell_type": "code",
   "execution_count": 26,
   "metadata": {},
   "outputs": [],
   "source": [
    "lorge=len(a)\n",
    "xd=np.ones(lorge)"
   ]
  },
  {
   "cell_type": "code",
   "execution_count": 33,
   "metadata": {},
   "outputs": [],
   "source": [
    "lala=[0]\n",
    "for i in xd:\n",
    "    lala.append(i)\n",
    "lala.append(0)\n",
    "lala=np.array(lala)"
   ]
  },
  {
   "cell_type": "code",
   "execution_count": 39,
   "metadata": {},
   "outputs": [
    {
     "data": {
      "text/plain": [
       "array([333, 515])"
      ]
     },
     "execution_count": 39,
     "metadata": {},
     "output_type": "execute_result"
    }
   ],
   "source": [
    "y_test_pre[1]"
   ]
  },
  {
   "cell_type": "code",
   "execution_count": 36,
   "metadata": {},
   "outputs": [],
   "source": [
    "jaja=[332]\n",
    "for i in a:\n",
    "    jaja.append(i)\n",
    "jaja.append(516)\n",
    "jaja=np.array(jaja)"
   ]
  },
  {
   "cell_type": "code",
   "execution_count": 37,
   "metadata": {},
   "outputs": [
    {
     "data": {
      "text/plain": [
       "array([332, 336, 340, 344, 348, 352, 356, 360, 364, 368, 372, 376, 380,\n",
       "       384, 388, 392, 396, 400, 404, 408, 412, 416, 420, 424, 428, 432,\n",
       "       436, 440, 444, 448, 452, 456, 460, 464, 468, 472, 476, 480, 484,\n",
       "       488, 492, 496, 500, 504, 508, 512, 516])"
      ]
     },
     "execution_count": 37,
     "metadata": {},
     "output_type": "execute_result"
    }
   ],
   "source": [
    "jaja"
   ]
  },
  {
   "cell_type": "code",
   "execution_count": null,
   "metadata": {},
   "outputs": [],
   "source": []
  }
 ],
 "metadata": {
  "kernelspec": {
   "display_name": "Python 3",
   "language": "python",
   "name": "python3"
  },
  "language_info": {
   "codemirror_mode": {
    "name": "ipython",
    "version": 3
   },
   "file_extension": ".py",
   "mimetype": "text/x-python",
   "name": "python",
   "nbconvert_exporter": "python",
   "pygments_lexer": "ipython3",
   "version": "3.7.6"
  }
 },
 "nbformat": 4,
 "nbformat_minor": 4
}
