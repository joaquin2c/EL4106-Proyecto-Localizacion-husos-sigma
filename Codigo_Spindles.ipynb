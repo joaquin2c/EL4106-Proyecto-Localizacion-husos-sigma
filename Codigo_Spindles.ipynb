{
 "cells": [
  {
   "cell_type": "code",
   "execution_count": 1,
   "metadata": {},
   "outputs": [],
   "source": [
    "import numpy as np\n",
    "import matplotlib.pyplot as plt\n",
    "import tensorflow as tf\n",
    "%load_ext tensorboard\n",
    "\n",
    "#Cargamos los datos a trabajar\n",
    "\n",
    "x_train_pre=np.load(\"./data/train_signals.npy\")\n",
    "y_train_pre=np.load(\"./data/train_marks.npy\")\n",
    "trainLen=len(x_train_pre)\n",
    "\n",
    "x_val_pre=np.load(\"./data/val_signals.npy\")\n",
    "y_val_pre=np.load(\"./data/val_marks.npy\")\n",
    "valLen=len(x_val_pre)\n",
    "\n",
    "x_test_pre=np.load(\"./data/test_signals.npy\")\n",
    "y_test_pre=np.load(\"./data/test_marks.npy\")\n",
    "testLen=len(x_test_pre)\n",
    "\n",
    "#Creamos una funcion que muestree a un ratio deseado\n",
    "\n",
    "def sampling(signals,samples,lenght,rate):\n",
    "    x_new=[]\n",
    "    for i in signals:\n",
    "        x=[]\n",
    "        for j in range(0,lenght,rate):\n",
    "            x.append(i[j])\n",
    "        x_new.append(x)\n",
    "    return np.array(x_new)\n",
    "\n",
    "#Obtenemos los nuevos resultados de nuestras señales a trabajar\n",
    "\n",
    "x_train=sampling(x_train_pre,trainLen,800,1)\n",
    "x_val=sampling(x_val_pre,valLen,800,1)\n",
    "x_test=sampling(x_test_pre,testLen,800,1)\n",
    "\n",
    "#Creamos una funcion que clasifique con 1 o 0 los valores de la señal a trabajar\n",
    "\n",
    "def oneHot(marks,lenght,rate):\n",
    "    y_new=[]\n",
    "    for i in marks:\n",
    "        y=[]\n",
    "        for j in range(0,lenght,rate):\n",
    "            if(i[0]<=j & j<=i[1]):\n",
    "                y.append(1)\n",
    "            else:\n",
    "                y.append(0)\n",
    "        y_new.append(y)\n",
    "    return np.array(y_new)\n",
    "\n",
    "#Obtenemos los nuevos resultados de nuestras marcas a trabajar\n",
    "\n",
    "y_train=oneHot(y_train_pre,800,1)\n",
    "y_val=oneHot(y_val_pre,800,1)\n",
    "y_test=oneHot(y_test_pre,800,1)\n",
    "\n",
    "x_train2=np.expand_dims(x_train,2)\n",
    "y_train2=np.expand_dims(y_train,2)\n",
    "\n",
    "x_val2=np.expand_dims(x_val,2)\n",
    "y_val2=np.expand_dims(y_val,2)\n",
    "\n",
    "x_test2=np.expand_dims(x_test,2)\n",
    "y_test2=np.expand_dims(y_test,2)\n",
    "\n",
    "BATCH_SIZE=20\n",
    "repeat=20\n",
    "\n",
    "training_dataset = tf.data.Dataset.from_tensor_slices(\n",
    "    (x_train2, y_train)).shuffle(buffer_size=1024).batch(BATCH_SIZE)\n",
    "\n",
    "test_dataset = tf.data.Dataset.from_tensor_slices(\n",
    "    (x_test2, y_test)).shuffle(buffer_size=1024).batch(BATCH_SIZE)\n",
    "\n",
    "val_dataset = tf.data.Dataset.from_tensor_slices(\n",
    "    (x_val2, y_val)).shuffle(buffer_size=1024).batch(BATCH_SIZE)\n",
    "\n",
    "time=np.arange(0,800,1)"
   ]
  },
  {
   "cell_type": "code",
   "execution_count": 9,
   "metadata": {},
   "outputs": [
    {
     "data": {
      "text/plain": [
       "(4463, 800)"
      ]
     },
     "execution_count": 9,
     "metadata": {},
     "output_type": "execute_result"
    }
   ],
   "source": [
    "y_train.shape"
   ]
  },
  {
   "cell_type": "code",
   "execution_count": 15,
   "metadata": {},
   "outputs": [
    {
     "name": "stdout",
     "output_type": "stream",
     "text": [
      "Model: \"sequential_7\"\n",
      "_________________________________________________________________\n",
      "Layer (type)                 Output Shape              Param #   \n",
      "=================================================================\n",
      "conv1d_42 (Conv1D)           (None, 800, 40)           320       \n",
      "_________________________________________________________________\n",
      "max_pooling1d_38 (MaxPooling (None, 800, 40)           0         \n",
      "_________________________________________________________________\n",
      "conv1d_43 (Conv1D)           (None, 800, 40)           11240     \n",
      "_________________________________________________________________\n",
      "max_pooling1d_39 (MaxPooling (None, 800, 40)           0         \n",
      "_________________________________________________________________\n",
      "conv1d_44 (Conv1D)           (None, 800, 40)           11240     \n",
      "_________________________________________________________________\n",
      "max_pooling1d_40 (MaxPooling (None, 800, 40)           0         \n",
      "_________________________________________________________________\n",
      "conv1d_45 (Conv1D)           (None, 800, 40)           11240     \n",
      "_________________________________________________________________\n",
      "max_pooling1d_41 (MaxPooling (None, 800, 40)           0         \n",
      "_________________________________________________________________\n",
      "conv1d_46 (Conv1D)           (None, 800, 40)           11240     \n",
      "_________________________________________________________________\n",
      "max_pooling1d_42 (MaxPooling (None, 800, 40)           0         \n",
      "_________________________________________________________________\n",
      "conv1d_47 (Conv1D)           (None, 800, 1)            41        \n",
      "_________________________________________________________________\n",
      "activation_4 (Activation)    (None, 800, 1)            0         \n",
      "=================================================================\n",
      "Total params: 45,321\n",
      "Trainable params: 45,321\n",
      "Non-trainable params: 0\n",
      "_________________________________________________________________\n"
     ]
    }
   ],
   "source": [
    "#Modelo Paper\n",
    "prob=0.5\n",
    "model = tf.keras.Sequential()\n",
    "\n",
    "for i in range(0,5):\n",
    "    model.add(tf.keras.layers.Conv1D(40, 7, activation='elu',padding=\"same\"))\n",
    "    model.add(tf.keras.layers.MaxPool1D(pool_size=5,strides=1,padding=\"same\"))   \n",
    "\n",
    "model.add(tf.keras.layers.Conv1D(1, 1))\n",
    "\n",
    "\n",
    "    \n",
    "\n",
    "model.add(tf.keras.layers.Activation(tf.nn.softmax))\n",
    "\n",
    "model.build(input_shape=(None,800,1))\n",
    "\n",
    "model.compile(loss='categorical_crossentropy',optimizer=\"adam\",  metrics=[tf.keras.metrics.MeanIoU(num_classes=2),'accuracy'])\n",
    "\n",
    "model.summary()"
   ]
  },
  {
   "cell_type": "code",
   "execution_count": 16,
   "metadata": {},
   "outputs": [
    {
     "name": "stdout",
     "output_type": "stream",
     "text": [
      "Model: \"sequential_8\"\n",
      "_________________________________________________________________\n",
      "Layer (type)                 Output Shape              Param #   \n",
      "=================================================================\n",
      "conv1d_48 (Conv1D)           (None, 794, 16)           128       \n",
      "_________________________________________________________________\n",
      "max_pooling1d_43 (MaxPooling (None, 395, 16)           0         \n",
      "_________________________________________________________________\n",
      "conv1d_49 (Conv1D)           (None, 389, 32)           3616      \n",
      "_________________________________________________________________\n",
      "dropout_35 (Dropout)         (None, 389, 32)           0         \n",
      "_________________________________________________________________\n",
      "max_pooling1d_44 (MaxPooling (None, 193, 32)           0         \n",
      "_________________________________________________________________\n",
      "conv1d_50 (Conv1D)           (None, 187, 48)           10800     \n",
      "_________________________________________________________________\n",
      "dropout_36 (Dropout)         (None, 187, 48)           0         \n",
      "_________________________________________________________________\n",
      "max_pooling1d_45 (MaxPooling (None, 92, 48)            0         \n",
      "_________________________________________________________________\n",
      "conv1d_51 (Conv1D)           (None, 86, 64)            21568     \n",
      "_________________________________________________________________\n",
      "dropout_37 (Dropout)         (None, 86, 64)            0         \n",
      "_________________________________________________________________\n",
      "max_pooling1d_46 (MaxPooling (None, 41, 64)            0         \n",
      "_________________________________________________________________\n",
      "flatten_3 (Flatten)          (None, 2624)              0         \n",
      "_________________________________________________________________\n",
      "fc2 (Dense)                  (None, 1600)              4200000   \n",
      "_________________________________________________________________\n",
      "dropout_38 (Dropout)         (None, 1600)              0         \n",
      "_________________________________________________________________\n",
      "fc3 (Dense)                  (None, 1200)              1921200   \n",
      "_________________________________________________________________\n",
      "dropout_39 (Dropout)         (None, 1200)              0         \n",
      "_________________________________________________________________\n",
      "fc4 (Dense)                  (None, 800)               960800    \n",
      "_________________________________________________________________\n",
      "softmax_1 (Softmax)          (None, 800)               0         \n",
      "=================================================================\n",
      "Total params: 7,118,112\n",
      "Trainable params: 7,118,112\n",
      "Non-trainable params: 0\n",
      "_________________________________________________________________\n"
     ]
    }
   ],
   "source": [
    "#Modelo Propuesto\n",
    "\n",
    "prob = 0.5\n",
    "\n",
    "model2 = tf.keras.Sequential()\n",
    "\n",
    "model2.add(tf.keras.layers.Conv1D(16, 7, activation='elu', input_shape = (800,1)))\n",
    "model2.add(tf.keras.layers.MaxPool1D(pool_size=5,strides=2))\n",
    "\n",
    "model2.add(tf.keras.layers.Conv1D(32, 7, activation='elu'))\n",
    "model2.add(tf.keras.layers.Dropout(prob))\n",
    "model2.add(tf.keras.layers.MaxPool1D(pool_size=5,strides=2))\n",
    "\n",
    "model2.add(tf.keras.layers.Conv1D(48, 7, activation='elu'))\n",
    "model2.add(tf.keras.layers.Dropout(prob))\n",
    "model2.add(tf.keras.layers.MaxPool1D(pool_size=5,strides=2))\n",
    "\n",
    "model2.add(tf.keras.layers.Conv1D(64, 7, activation='elu'))\n",
    "model2.add(tf.keras.layers.Dropout(prob))\n",
    "model2.add(tf.keras.layers.MaxPool1D(pool_size=5,strides=2))\n",
    "\n",
    "model2.add(tf.keras.layers.Flatten())\n",
    "\n",
    "model2.add(tf.keras.layers.Dense(1600, activation=tf.nn.relu, name='fc2'))\n",
    "model2.add(tf.keras.layers.Dropout(0.5))\n",
    "\n",
    "model2.add(tf.keras.layers.Dense(1200, activation=tf.nn.relu, name='fc3'))\n",
    "model2.add(tf.keras.layers.Dropout(0.5))\n",
    "\n",
    "model2.add(tf.keras.layers.Dense(800, activation=tf.nn.relu, name='fc4')) \n",
    "\n",
    "model2.add(tf.keras.layers.Softmax(axis = 1))\n",
    "\n",
    "\n",
    "model2.build(input_shape=(None,800,1))\n",
    "\n",
    "model2.compile(loss='categorical_crossentropy',\n",
    "               optimizer=\"adam\",\n",
    "               metrics=[tf.keras.metrics.MeanIoU(num_classes=2),'accuracy'])\n",
    "\n",
    "model2.summary()"
   ]
  },
  {
   "cell_type": "code",
   "execution_count": 17,
   "metadata": {
    "scrolled": true
   },
   "outputs": [
    {
     "name": "stdout",
     "output_type": "stream",
     "text": [
      "Epoch 1/10\n",
      " 2/20 [==>...........................] - ETA: 16s - loss: 1104.7993 - mean_io_u_5: 0.1033 - accuracy: 0.2066WARNING:tensorflow:Callbacks method `on_train_batch_end` is slow compared to the batch time (batch time: 0.1180s vs `on_train_batch_end` time: 1.6681s). Check your callbacks.\n",
      "20/20 [==============================] - 7s 363ms/step - loss: 1116.3636 - mean_io_u_5: 0.1044 - accuracy: 0.2088 - val_loss: 1177.6301 - val_mean_io_u_5: 0.1101 - val_accuracy: 0.2202\n",
      "Epoch 2/10\n",
      "20/20 [==============================] - 5s 253ms/step - loss: 1165.6958 - mean_io_u_5: 0.1090 - accuracy: 0.2180 - val_loss: 1177.6304 - val_mean_io_u_5: 0.1101 - val_accuracy: 0.2202\n",
      "Epoch 3/10\n",
      "20/20 [==============================] - 5s 252ms/step - loss: 1149.5023 - mean_io_u_5: 0.1075 - accuracy: 0.2150 - val_loss: 1177.6304 - val_mean_io_u_5: 0.1101 - val_accuracy: 0.2202\n",
      "Epoch 4/10\n",
      "20/20 [==============================] - 5s 253ms/step - loss: 1157.2899 - mean_io_u_5: 0.1082 - accuracy: 0.2164 - val_loss: 1177.6298 - val_mean_io_u_5: 0.1101 - val_accuracy: 0.2202\n",
      "Epoch 5/10\n",
      "20/20 [==============================] - 5s 249ms/step - loss: 1155.4851 - mean_io_u_5: 0.1080 - accuracy: 0.2161 - val_loss: 1177.6302 - val_mean_io_u_5: 0.1101 - val_accuracy: 0.2202\n",
      "Epoch 6/10\n",
      "20/20 [==============================] - 6s 280ms/step - loss: 1169.6398 - mean_io_u_5: 0.1094 - accuracy: 0.2187 - val_loss: 1177.6305 - val_mean_io_u_5: 0.1101 - val_accuracy: 0.2202\n",
      "Epoch 7/10\n",
      "20/20 [==============================] - 9s 439ms/step - loss: 1147.2798 - mean_io_u_5: 0.1073 - accuracy: 0.2145 - val_loss: 1177.6305 - val_mean_io_u_5: 0.1101 - val_accuracy: 0.2202\n",
      "Epoch 8/10\n",
      "20/20 [==============================] - 8s 414ms/step - loss: 1151.0734 - mean_io_u_5: 0.1076 - accuracy: 0.2152 - val_loss: 1177.6304 - val_mean_io_u_5: 0.1101 - val_accuracy: 0.2202\n",
      "Epoch 9/10\n",
      "20/20 [==============================] - 8s 421ms/step - loss: 1093.6696 - mean_io_u_5: 0.1023 - accuracy: 0.2045 - val_loss: 1177.6301 - val_mean_io_u_5: 0.1101 - val_accuracy: 0.2202\n",
      "Epoch 10/10\n",
      "20/20 [==============================] - 8s 390ms/step - loss: 1120.5917 - mean_io_u_5: 0.1048 - accuracy: 0.2095 - val_loss: 1177.6301 - val_mean_io_u_5: 0.1101 - val_accuracy: 0.2202\n"
     ]
    },
    {
     "data": {
      "text/plain": [
       "<tensorflow.python.keras.callbacks.History at 0x190d2809dc8>"
      ]
     },
     "execution_count": 17,
     "metadata": {},
     "output_type": "execute_result"
    }
   ],
   "source": [
    "model.fit(\n",
    "    training_dataset, \n",
    "    epochs=10,\n",
    "    steps_per_epoch=20,\n",
    "    validation_data=val_dataset,\n",
    "    validation_freq=1,\n",
    "    callbacks=[tf.keras.callbacks.TensorBoard('./logs/model1_finalfinal2', update_freq=100)]\n",
    ")\n",
    "\n"
   ]
  },
  {
   "cell_type": "code",
   "execution_count": 18,
   "metadata": {},
   "outputs": [
    {
     "name": "stdout",
     "output_type": "stream",
     "text": [
      "Epoch 1/10\n",
      " 2/20 [==>...........................] - ETA: 29s - loss: 15153.3672 - mean_io_u_6: 0.3928 - accuracy: 0.0000e+00WARNING:tensorflow:Callbacks method `on_train_batch_end` is slow compared to the batch time (batch time: 0.1110s vs `on_train_batch_end` time: 3.1377s). Check your callbacks.\n",
      "20/20 [==============================] - 8s 395ms/step - loss: 53160784.0000 - mean_io_u_6: 0.3948 - accuracy: 0.0000e+00 - val_loss: 49377852.0000 - val_mean_io_u_6: 0.3913 - val_accuracy: 0.0022\n",
      "Epoch 2/10\n",
      "20/20 [==============================] - 4s 176ms/step - loss: 9799462912.0000 - mean_io_u_6: 0.3921 - accuracy: 0.0000e+00 - val_loss: 5130813952.0000 - val_mean_io_u_6: 0.3911 - val_accuracy: 0.0000e+00\n",
      "Epoch 3/10\n",
      "20/20 [==============================] - 3s 172ms/step - loss: 416176209920.0000 - mean_io_u_6: 0.3927 - accuracy: 0.0025 - val_loss: 150598352896.0000 - val_mean_io_u_6: 0.3914 - val_accuracy: 0.0039\n",
      "Epoch 4/10\n",
      "20/20 [==============================] - 3s 163ms/step - loss: 6625682259968.0000 - mean_io_u_6: 0.3953 - accuracy: 0.0025 - val_loss: 2007057039360.0000 - val_mean_io_u_6: 0.3913 - val_accuracy: 0.0033\n",
      "Epoch 5/10\n",
      "20/20 [==============================] - 3s 160ms/step - loss: 60602621886464.0000 - mean_io_u_6: 0.3945 - accuracy: 0.0000e+00 - val_loss: 17591998349312.0000 - val_mean_io_u_6: 0.3913 - val_accuracy: 0.0017\n",
      "Epoch 6/10\n",
      "20/20 [==============================] - 3s 163ms/step - loss: 400134017908736.0000 - mean_io_u_6: 0.3912 - accuracy: 0.0025 - val_loss: 106643383648256.0000 - val_mean_io_u_6: 0.3913 - val_accuracy: 0.0039\n",
      "Epoch 7/10\n",
      "20/20 [==============================] - 4s 177ms/step - loss: 1706397083369472.0000 - mean_io_u_6: 0.3961 - accuracy: 0.0025 - val_loss: 460931930783744.0000 - val_mean_io_u_6: 0.3913 - val_accuracy: 0.0039\n",
      "Epoch 8/10\n",
      "20/20 [==============================] - 4s 185ms/step - loss: 6637794109685760.0000 - mean_io_u_6: 0.3937 - accuracy: 0.0025 - val_loss: 1576979249758208.0000 - val_mean_io_u_6: 0.3913 - val_accuracy: 0.0028\n",
      "Epoch 9/10\n",
      "20/20 [==============================] - 3s 165ms/step - loss: 20348223608586240.0000 - mean_io_u_6: 0.3975 - accuracy: 0.0075 - val_loss: 4887650234269696.0000 - val_mean_io_u_6: 0.3913 - val_accuracy: 0.0017\n",
      "Epoch 10/10\n",
      "20/20 [==============================] - 3s 167ms/step - loss: 58281825738424320.0000 - mean_io_u_6: 0.3968 - accuracy: 0.0025 - val_loss: 13381763032154112.0000 - val_mean_io_u_6: 0.3912 - val_accuracy: 0.0028\n"
     ]
    },
    {
     "data": {
      "text/plain": [
       "<tensorflow.python.keras.callbacks.History at 0x190c9911308>"
      ]
     },
     "execution_count": 18,
     "metadata": {},
     "output_type": "execute_result"
    }
   ],
   "source": [
    "model2.fit(\n",
    "    training_dataset, \n",
    "    epochs=10,\n",
    "    steps_per_epoch=20,\n",
    "    validation_data=val_dataset,\n",
    "    validation_freq=1,\n",
    "    callbacks=[tf.keras.callbacks.TensorBoard('./logs/model2_finalfinal2', update_freq=100)]\n",
    ")"
   ]
  },
  {
   "cell_type": "code",
   "execution_count": 22,
   "metadata": {
    "scrolled": false
   },
   "outputs": [
    {
     "data": {
      "text/plain": [
       "Reusing TensorBoard on port 6006 (pid 6212), started 4 days, 0:05:56 ago. (Use '!kill 6212' to kill it.)"
      ]
     },
     "metadata": {},
     "output_type": "display_data"
    },
    {
     "data": {
      "text/html": [
       "\n",
       "      <iframe id=\"tensorboard-frame-ab63ec07c931f267\" width=\"100%\" height=\"800\" frameborder=\"0\">\n",
       "      </iframe>\n",
       "      <script>\n",
       "        (function() {\n",
       "          const frame = document.getElementById(\"tensorboard-frame-ab63ec07c931f267\");\n",
       "          const url = new URL(\"/\", window.location);\n",
       "          const port = 6006;\n",
       "          if (port) {\n",
       "            url.port = port;\n",
       "          }\n",
       "          frame.src = url;\n",
       "        })();\n",
       "      </script>\n",
       "    "
      ],
      "text/plain": [
       "<IPython.core.display.HTML object>"
      ]
     },
     "metadata": {},
     "output_type": "display_data"
    },
    {
     "name": "stderr",
     "output_type": "stream",
     "text": [
      "\"kill\" no se reconoce como un comando interno o externo,\n",
      "programa o archivo por lotes ejecutable.\n"
     ]
    }
   ],
   "source": [
    "\n",
    "%tensorboard --logdir=.\n"
   ]
  },
  {
   "cell_type": "code",
   "execution_count": 1,
   "metadata": {},
   "outputs": [],
   "source": [
    "a=0.4\n",
    "b=0.6\n"
   ]
  },
  {
   "cell_type": "code",
   "execution_count": 2,
   "metadata": {},
   "outputs": [
    {
     "data": {
      "text/plain": [
       "0"
      ]
     },
     "execution_count": 2,
     "metadata": {},
     "output_type": "execute_result"
    }
   ],
   "source": [
    "round(a)"
   ]
  },
  {
   "cell_type": "code",
   "execution_count": 3,
   "metadata": {},
   "outputs": [
    {
     "data": {
      "text/plain": [
       "1"
      ]
     },
     "execution_count": 3,
     "metadata": {},
     "output_type": "execute_result"
    }
   ],
   "source": [
    "round(b)"
   ]
  },
  {
   "cell_type": "code",
   "execution_count": null,
   "metadata": {},
   "outputs": [],
   "source": []
  }
 ],
 "metadata": {
  "kernelspec": {
   "display_name": "Python 3",
   "language": "python",
   "name": "python3"
  },
  "language_info": {
   "codemirror_mode": {
    "name": "ipython",
    "version": 3
   },
   "file_extension": ".py",
   "mimetype": "text/x-python",
   "name": "python",
   "nbconvert_exporter": "python",
   "pygments_lexer": "ipython3",
   "version": "3.7.6"
  }
 },
 "nbformat": 4,
 "nbformat_minor": 4
}
